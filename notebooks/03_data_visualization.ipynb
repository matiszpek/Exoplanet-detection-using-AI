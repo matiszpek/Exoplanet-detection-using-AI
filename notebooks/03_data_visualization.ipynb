{
 "cells": [
  {
   "cell_type": "markdown",
   "id": "0381268c",
   "metadata": {},
   "source": [
    "Este notebook es para hacer grafiquitos de un modelo de IAAAAA"
   ]
  },
  {
   "cell_type": "code",
   "execution_count": 1,
   "id": "08d4c870",
   "metadata": {},
   "outputs": [],
   "source": [
    "import joblib\n",
    "import numpy as np\n",
    "import matplotlib.pyplot as plt"
   ]
  },
  {
   "cell_type": "code",
   "execution_count": 6,
   "id": "98c515e5",
   "metadata": {},
   "outputs": [],
   "source": [
    "modelo=joblib.load('models/fps/Stacking_fp.pkl')"
   ]
  },
  {
   "cell_type": "code",
   "execution_count": 7,
   "id": "746bb4fc",
   "metadata": {},
   "outputs": [
    {
     "ename": "SyntaxError",
     "evalue": "unterminated string literal (detected at line 64) (2671671878.py, line 64)",
     "output_type": "error",
     "traceback": [
      "  \u001b[36mCell\u001b[39m\u001b[36m \u001b[39m\u001b[32mIn[7]\u001b[39m\u001b[32m, line 64\u001b[39m\n\u001b[31m    \u001b[39m\u001b[31mprint('\u001b[39m\n          ^\n\u001b[31mSyntaxError\u001b[39m\u001b[31m:\u001b[39m unterminated string literal (detected at line 64)\n"
     ]
    }
   ],
   "source": [
    "import json\n",
    "import os\n",
    "from pathlib import Path\n",
    "import matplotlib.pyplot as plt\n",
    "import numpy as np\n",
    "import seaborn as sns\n",
    "sns.set(style=\"whitegrid\")\n",
    "\n",
    "# Paths\n",
    "ROOT = Path('.')\n",
    "META_PATH = ROOT / 'models' / 'fps' / 'Stacking_fp_meta.json'\n",
    "MODEL_PATH = ROOT / 'models' / 'fps' / 'Stacking_fp.pkl'\n",
    "\n",
    "# Load metadata\n",
    "with open(META_PATH, 'r', encoding='utf-8') as f:\n",
    "    meta = json.load(f)\n",
    "\n",
    "# Pretty print some values\n",
    "print('ROC AUC:', meta.get('ROC_AUC'))\n",
    "print('PR AUC :', meta.get('PR_AUC'))\n",
    "print('threshold:', meta.get('threshold'))\n",
    "\n",
    "# Helper to plot confusion matrix from nested lists\n",
    "def plot_confusion(cm, ax=None, title='Confusion matrix'):\n",
    "    cm = np.array(cm)\n",
    "    if ax is None:\n",
    "        fig, ax = plt.subplots(figsize=(4,4))\n",
    "    sns.heatmap(cm, annot=True, fmt='d', cmap='Blues', cbar=False, ax=ax)\n",
    "    ax.set_xlabel('Predicted')\n",
    "    ax.set_ylabel('Actual')\n",
    "    ax.set_title(title)\n",
    "    ax.xaxis.set_ticklabels(['neg','pos'])\n",
    "    ax.yaxis.set_ticklabels(['neg','pos'])\n",
    "    return ax\n",
    "\n",
    "# Plot confusion matrices for both metrics@0.5 and metrics@thr if present\n",
    "fig, axes = plt.subplots(1, 2, figsize=(10,4))\n",
    "cm05 = meta.get('metrics@0.5', {}).get('confusion_matrix')\n",
    "cmthr = meta.get('metrics@thr', {}).get('confusion_matrix')\n",
    "if cm05:\n",
    "    plot_confusion(cm05, ax=axes[0], title='Confusion @ 0.5')\n",
    "else:\n",
    "    axes[0].text(0.5, 0.5, 'No cm@0.5', ha='center')\n",
    "if cmthr:\n",
    "    plot_confusion(cmthr, ax=axes[1], title=f'Confusion @ thr={meta.get(\"threshold\")}')\n",
    "else:\n",
    "    axes[1].text(0.5, 0.5, 'No cm@thr', ha='center')\n",
    "plt.tight_layout()\n",
    "\n",
    "# Summary bar for AUCs\n",
    "fig, ax = plt.subplots(figsize=(5,3))\n",
    "aucs = {'ROC_AUC': meta.get('ROC_AUC'), 'PR_AUC': meta.get('PR_AUC')}\n",
    "names = list(aucs.keys())\n",
    "vals = [aucs[n] for n in names]\n",
    "ax.bar(names, vals, color=['#4c72b0', '#55a868'])\n",
    "ax.set_ylim(0,1)\n",
    "ax.set_title('AUC summary')\n",
    "for i,v in enumerate(vals):\n",
    "    ax.text(i, v+0.02, f'{v:.3f}', ha='center')\n",
    "plt.show()\n",
    "\n",
    "# Print metrics tables for easy reference\n",
    "from pprint import pprint\n",
    "print('\n",
    "\n",
    "\n",
    "\n",
    "\n",
    "\n",
    "\n",
    "\n",
    "\n",
    "\n",
    "\n",
    "\n",
    "\n",
    "\n",
    "\n",
    "\n",
    "\n",
    "\n",
    "\n",
    "\n",
    "\n",
    "\n",
    "\n",
    "\n",
    "\n",
    "\n",
    "\n",
    "\n",
    "\n",
    "\n",
    "\n",
    "\n",
    "\n",
    "\n",
    "\n",
    "\n",
    "\n",
    "\n",
    "\n",
    "\n",
    "    print('Error loading model:', e)except Exception as e:    print('Model pickle not found at', MODEL_PATH)except FileNotFoundError:        print('No feature importances available from loaded model.')    else:        plt.tight_layout(); plt.show()        ax.set_title('Top feature importances (approx)')        ax.set_yticklabels([f'feat_{i}' for i in idx[::-1]])        ax.set_yticks(range(len(idx)))        ax.barh(range(len(idx)), fi[idx][::-1])        fig, ax = plt.subplots(figsize=(6,4))        idx = np.argsort(fi)[::-1][:20]        fi = np.array(fi)    if fi is not None:            fi = None        except Exception:                fi = final.feature_importances_            if final is not None and hasattr(final, 'feature_importances_'):            final = getattr(model, 'final_estimator', None)        try:        # stacking might contain estimators; try to inspect the final estimator    elif hasattr(model, 'estimators_'):        fi = np.ravel(model.coef_)    elif hasattr(model, 'coef_'):        fi = model.feature_importances_    if hasattr(model, 'feature_importances_'):    fi = None    # attempt to get feature_importances_ or coef_    print('\n",
    "Loaded model object type:', type(model))    model = joblib.load(MODEL_PATH)    import joblibtry:# Optional: try loading the model to inspect feature importances if availablepprint(meta.get('metrics@thr'))print('\n",
    "metrics@thr:')pprint(meta.get('metrics@0.5'))metrics@0.5:')"
   ]
  }
 ],
 "metadata": {
  "kernelspec": {
   "display_name": ".venv",
   "language": "python",
   "name": "python3"
  },
  "language_info": {
   "codemirror_mode": {
    "name": "ipython",
    "version": 3
   },
   "file_extension": ".py",
   "mimetype": "text/x-python",
   "name": "python",
   "nbconvert_exporter": "python",
   "pygments_lexer": "ipython3",
   "version": "3.13.5"
  }
 },
 "nbformat": 4,
 "nbformat_minor": 5
}
