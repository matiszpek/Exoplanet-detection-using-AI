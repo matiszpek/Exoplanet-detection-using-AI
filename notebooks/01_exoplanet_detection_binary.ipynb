{
 "cells": [
  {
   "cell_type": "markdown",
   "id": "192c8974",
   "metadata": {},
   "source": [
    "# 🪐 Exoplanet Detection using AI - Binary Classification\n",
    "\n",
    "**NASA Space Apps Challenge 2025: \"A World Away: Hunting for Exoplanets with AI\"**\n",
    "\n",
    "This notebook implements a comprehensive machine learning approach for binary exoplanet classification using data from NASA's Kepler Space Telescope. We distinguish between confirmed exoplanets and candidates using advanced ensemble methods.\n",
    "\n",
    "## 🎯 Objective\n",
    "\n",
    "Develop a robust binary classifier to identify confirmed exoplanets vs. candidates using:\n",
    "- **Kepler Objects of Interest (KOI)** dataset\n",
    "- **Multiple machine learning algorithms** (Random Forest, Extra Trees, AdaBoost, Stacking)\n",
    "- **Comprehensive feature engineering** and selection\n",
    "- **Rigorous evaluation** and model comparison\n",
    "\n",
    "## 📊 Dataset Overview\n",
    "\n",
    "The dataset contains observations from the Kepler Space Telescope with the following key characteristics:\n",
    "- **Transit photometry** measurements\n",
    "- **Orbital parameters** (period, impact parameter, duration)  \n",
    "- **Planetary properties** (radius, equilibrium temperature)\n",
    "- **Stellar characteristics** (temperature, radius, magnitude)\n",
    "- **Target classes**: CONFIRMED (confirmed exoplanets) vs CANDIDATE (potential exoplanets)\n",
    "\n",
    "---"
   ]
  },
  {
   "cell_type": "code",
   "execution_count": null,
   "id": "642ca689",
   "metadata": {},
   "outputs": [],
   "source": [
    "# Exoplanet Detection using AI - Binary Classification\n",
    "\n",
    "**NASA Space Apps Challenge 2025: \"A World Away: Hunting for Exoplanets with AI\"**\n",
    "\n",
    "This notebook implements a comprehensive machine learning approach for binary exoplanet classification using data from NASA's Kepler Space Telescope. We distinguish between confirmed exoplanets and candidates using advanced ensemble methods.\n",
    "\n",
    "## 🎯 Objective\n",
    "\n",
    "Develop a robust binary classifier to identify confirmed exoplanets vs. candidates using:\n",
    "- **Kepler Objects of Interest (KOI)** dataset\n",
    "- **Multiple machine learning algorithms** (Random Forest, Extra Trees, AdaBoost, Stacking)\n",
    "- **Comprehensive feature engineering** and selection\n",
    "- **Rigorous evaluation** and model comparison\n",
    "\n",
    "## 📊 Dataset Overview\n",
    "\n",
    "The dataset contains observations from the Kepler Space Telescope with the following key characteristics:\n",
    "- **Transit photometry** measurements\n",
    "- **Orbital parameters** (period, impact parameter, duration)\n",
    "- **Planetary properties** (radius, equilibrium temperature)\n",
    "- **Stellar characteristics** (temperature, radius, magnitude)\n",
    "- **Target classes**: CONFIRMED (confirmed exoplanets) vs CANDIDATE (potential exoplanets)\n",
    "\n",
    "---\n",
    "\n",
    "## 1. Setup and Data Loading"
   ]
  },
  {
   "cell_type": "markdown",
   "id": "c37bcbf8",
   "metadata": {},
   "source": [
    "## 1. 📚 Environment Setup and Library Imports\n",
    "\n",
    "Let's start by installing required packages and importing necessary libraries for data analysis and machine learning."
   ]
  }
 ],
 "metadata": {
  "language_info": {
   "name": "python"
  }
 },
 "nbformat": 4,
 "nbformat_minor": 5
}
